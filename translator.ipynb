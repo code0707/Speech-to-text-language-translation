{
 "cells": [
  {
   "cell_type": "code",
   "execution_count": 1,
   "metadata": {},
   "outputs": [
    {
     "name": "stdout",
     "output_type": "stream",
     "text": [
      "Requirement already satisfied: SpeechRecognition in c:\\users\\kiit\\anaconda3\\lib\\site-packages (3.8.1)\n"
     ]
    },
    {
     "name": "stderr",
     "output_type": "stream",
     "text": [
      "WARNING: pip is being invoked by an old script wrapper. This will fail in a future version of pip.\n",
      "Please see https://github.com/pypa/pip/issues/5599 for advice on fixing the underlying issue.\n",
      "To avoid this problem you can invoke Python with '-m pip' instead of running pip directly.\n"
     ]
    },
    {
     "name": "stdout",
     "output_type": "stream",
     "text": [
      "Requirement already satisfied: google-api-python-client in c:\\users\\kiit\\anaconda3\\lib\\site-packages (1.8.2)\n",
      "Requirement already satisfied: httplib2<1dev,>=0.9.2 in c:\\users\\kiit\\anaconda3\\lib\\site-packages (from google-api-python-client) (0.17.3)\n",
      "Requirement already satisfied: google-api-core<2dev,>=1.13.0 in c:\\users\\kiit\\anaconda3\\lib\\site-packages (from google-api-python-client) (1.17.0)\n",
      "Requirement already satisfied: google-auth-httplib2>=0.0.3 in c:\\users\\kiit\\anaconda3\\lib\\site-packages (from google-api-python-client) (0.0.3)\n",
      "Requirement already satisfied: uritemplate<4dev,>=3.0.0 in c:\\users\\kiit\\anaconda3\\lib\\site-packages (from google-api-python-client) (3.0.1)\n",
      "Requirement already satisfied: six<2dev,>=1.6.1 in c:\\users\\kiit\\anaconda3\\lib\\site-packages (from google-api-python-client) (1.12.0)\n",
      "Requirement already satisfied: google-auth>=1.4.1 in c:\\users\\kiit\\anaconda3\\lib\\site-packages (from google-api-python-client) (1.14.1)\n",
      "Requirement already satisfied: pytz in c:\\users\\kiit\\anaconda3\\lib\\site-packages (from google-api-core<2dev,>=1.13.0->google-api-python-client) (2019.1)\n",
      "Requirement already satisfied: protobuf>=3.4.0 in c:\\users\\kiit\\anaconda3\\lib\\site-packages (from google-api-core<2dev,>=1.13.0->google-api-python-client) (3.11.3)\n",
      "Requirement already satisfied: googleapis-common-protos<2.0dev,>=1.6.0 in c:\\users\\kiit\\anaconda3\\lib\\site-packages (from google-api-core<2dev,>=1.13.0->google-api-python-client) (1.51.0)\n",
      "Requirement already satisfied: setuptools>=34.0.0 in c:\\users\\kiit\\anaconda3\\lib\\site-packages (from google-api-core<2dev,>=1.13.0->google-api-python-client) (41.0.1)\n",
      "Requirement already satisfied: requests<3.0.0dev,>=2.18.0 in c:\\users\\kiit\\anaconda3\\lib\\site-packages (from google-api-core<2dev,>=1.13.0->google-api-python-client) (2.22.0)\n",
      "Requirement already satisfied: cachetools<5.0,>=2.0.0 in c:\\users\\kiit\\anaconda3\\lib\\site-packages (from google-auth>=1.4.1->google-api-python-client) (4.1.0)\n",
      "Requirement already satisfied: rsa<4.1,>=3.1.4 in c:\\users\\kiit\\anaconda3\\lib\\site-packages (from google-auth>=1.4.1->google-api-python-client) (4.0)\n",
      "Requirement already satisfied: pyasn1-modules>=0.2.1 in c:\\users\\kiit\\anaconda3\\lib\\site-packages (from google-auth>=1.4.1->google-api-python-client) (0.2.8)\n",
      "Requirement already satisfied: urllib3!=1.25.0,!=1.25.1,<1.26,>=1.21.1 in c:\\users\\kiit\\anaconda3\\lib\\site-packages (from requests<3.0.0dev,>=2.18.0->google-api-core<2dev,>=1.13.0->google-api-python-client) (1.24.2)\n",
      "Requirement already satisfied: certifi>=2017.4.17 in c:\\users\\kiit\\anaconda3\\lib\\site-packages (from requests<3.0.0dev,>=2.18.0->google-api-core<2dev,>=1.13.0->google-api-python-client) (2019.11.28)\n",
      "Requirement already satisfied: idna<2.9,>=2.5 in c:\\users\\kiit\\anaconda3\\lib\\site-packages (from requests<3.0.0dev,>=2.18.0->google-api-core<2dev,>=1.13.0->google-api-python-client) (2.8)\n",
      "Requirement already satisfied: chardet<3.1.0,>=3.0.2 in c:\\users\\kiit\\anaconda3\\lib\\site-packages (from requests<3.0.0dev,>=2.18.0->google-api-core<2dev,>=1.13.0->google-api-python-client) (3.0.4)\n",
      "Requirement already satisfied: pyasn1>=0.1.3 in c:\\users\\kiit\\anaconda3\\lib\\site-packages (from rsa<4.1,>=3.1.4->google-auth>=1.4.1->google-api-python-client) (0.4.8)\n"
     ]
    },
    {
     "name": "stderr",
     "output_type": "stream",
     "text": [
      "WARNING: pip is being invoked by an old script wrapper. This will fail in a future version of pip.\n",
      "Please see https://github.com/pypa/pip/issues/5599 for advice on fixing the underlying issue.\n",
      "To avoid this problem you can invoke Python with '-m pip' instead of running pip directly.\n"
     ]
    },
    {
     "name": "stdout",
     "output_type": "stream",
     "text": [
      "Requirement already satisfied: pipwin in c:\\users\\kiit\\anaconda3\\lib\\site-packages (0.5.0)\n",
      "Requirement already satisfied: pyprind in c:\\users\\kiit\\anaconda3\\lib\\site-packages (from pipwin) (2.11.2)\n",
      "Requirement already satisfied: six in c:\\users\\kiit\\anaconda3\\lib\\site-packages (from pipwin) (1.12.0)\n",
      "Requirement already satisfied: docopt in c:\\users\\kiit\\anaconda3\\lib\\site-packages (from pipwin) (0.6.2)\n",
      "Requirement already satisfied: pySmartDL>=1.3.1; python_version >= \"3.4\" in c:\\users\\kiit\\anaconda3\\lib\\site-packages (from pipwin) (1.3.3)\n",
      "Requirement already satisfied: packaging in c:\\users\\kiit\\anaconda3\\lib\\site-packages (from pipwin) (19.0)\n",
      "Requirement already satisfied: beautifulsoup4>=4.9.0 in c:\\users\\kiit\\anaconda3\\lib\\site-packages (from pipwin) (4.9.0)\n",
      "Requirement already satisfied: js2py in c:\\users\\kiit\\anaconda3\\lib\\site-packages (from pipwin) (0.70)\n",
      "Requirement already satisfied: requests in c:\\users\\kiit\\anaconda3\\lib\\site-packages (from pipwin) (2.22.0)\n",
      "Requirement already satisfied: pyparsing>=2.0.2 in c:\\users\\kiit\\anaconda3\\lib\\site-packages (from packaging->pipwin) (2.4.0)\n",
      "Requirement already satisfied: soupsieve>1.2 in c:\\users\\kiit\\anaconda3\\lib\\site-packages (from beautifulsoup4>=4.9.0->pipwin) (1.8)\n",
      "Requirement already satisfied: tzlocal>=1.2 in c:\\users\\kiit\\anaconda3\\lib\\site-packages (from js2py->pipwin) (2.0.0)\n",
      "Requirement already satisfied: pyjsparser>=2.5.1 in c:\\users\\kiit\\anaconda3\\lib\\site-packages (from js2py->pipwin) (2.7.1)\n",
      "Requirement already satisfied: chardet<3.1.0,>=3.0.2 in c:\\users\\kiit\\anaconda3\\lib\\site-packages (from requests->pipwin) (3.0.4)\n",
      "Requirement already satisfied: urllib3!=1.25.0,!=1.25.1,<1.26,>=1.21.1 in c:\\users\\kiit\\anaconda3\\lib\\site-packages (from requests->pipwin) (1.24.2)\n",
      "Requirement already satisfied: idna<2.9,>=2.5 in c:\\users\\kiit\\anaconda3\\lib\\site-packages (from requests->pipwin) (2.8)\n",
      "Requirement already satisfied: certifi>=2017.4.17 in c:\\users\\kiit\\anaconda3\\lib\\site-packages (from requests->pipwin) (2019.11.28)\n",
      "Requirement already satisfied: pytz in c:\\users\\kiit\\anaconda3\\lib\\site-packages (from tzlocal>=1.2->js2py->pipwin) (2019.1)\n"
     ]
    },
    {
     "name": "stderr",
     "output_type": "stream",
     "text": [
      "WARNING: pip is being invoked by an old script wrapper. This will fail in a future version of pip.\n",
      "Please see https://github.com/pypa/pip/issues/5599 for advice on fixing the underlying issue.\n",
      "To avoid this problem you can invoke Python with '-m pip' instead of running pip directly.\n"
     ]
    },
    {
     "name": "stdout",
     "output_type": "stream",
     "text": [
      "Package `pyaudio` found in cache\n",
      "Downloading package . . .\n",
      "https://download.lfd.uci.edu/pythonlibs/s2jqpv5t/PyAudio-0.2.11-cp37-cp37m-win_amd64.whl\n",
      "PyAudio-0.2.11-cp37-cp37m-win_amd64.whl\n",
      "[*] 0 bytes / 109 kB @ 0 bytes/s [------------------] [0.0%, 0s left]   [*] 0 bytes / 109 kB @ 0 bytes/s [------------------] [0.0%, 0s left]   [*] 0 bytes / 109 kB @ 0 bytes/s [------------------] [0.0%, 0s left]   [*] 0 bytes / 109 kB @ 0 bytes/s [------------------] [0.0%, 0s left]   [*] 0 bytes / 109 kB @ 0 bytes/s [------------------] [0.0%, 0s left]   [*] 0 bytes / 109 kB @ 0 bytes/s [------------------] [0.0%, 0s left]   [*] 0 bytes / 109 kB @ 0 bytes/s [------------------] [0.0%, 0s left]   [*] 0 bytes / 109 kB @ 0 bytes/s [------------------] [0.0%, 0s left]   [*] 0 bytes / 109 kB @ 0 bytes/s [------------------] [0.0%, 0s left]   [*] 0 bytes / 109 kB @ 0 bytes/s [------------------] [0.0%, 0s left]   [*] 0 bytes / 109 kB @ 0 bytes/s [------------------] [0.0%, 0s left]   [*] 0 bytes / 109 kB @ 0 bytes/s [------------------] [0.0%, 0s left]   [*] 0 bytes / 109 kB @ 0 bytes/s [------------------] [0.0%, 0s left]   [*] 0 bytes / 109 kB @ 0 bytes/s [------------------] [0.0%, 0s left]   [*] 0 bytes / 109 kB @ 0 bytes/s [------------------] [0.0%, 0s left]   [*] 0 bytes / 109 kB @ 0 bytes/s [------------------] [0.0%, 0s left]   [*] 8 kB / 109 kB @ 5 kB/s [#-----------------] [7.4%, 0s left]   [*] 8 kB / 109 kB @ 4 kB/s [#-----------------] [7.4%, 0s left]   [*] 8 kB / 109 kB @ 4 kB/s [#-----------------] [7.4%, 0s left]   [*] 40 kB / 109 kB @ 20 kB/s [######------------] [36.9%, 0s left]  [*] 40 kB / 109 kB @ 19 kB/s [######------------] [36.9%, 0s left]  [*] 40 kB / 109 kB @ 18 kB/s [######------------] [36.9%, 0s left]  [*] 40 kB / 109 kB @ 17 kB/s [######------------] [36.9%, 0s left]  Requirement already satisfied: PyAudio==0.2.11 from file:///C:/Users/KIIT/pipwin/PyAudio-0.2.11-cp37-cp37m-win_amd64.whl in c:\\users\\kiit\\anaconda3\\lib\\site-packages (0.2.11)\n",
      "[*] 109 kB / 109 kB @ 17 kB/s [##################] [100%, 0s left]    \n"
     ]
    }
   ],
   "source": [
    "!pip install SpeechRecognition\n",
    "!pip install google-api-python-client\n",
    "!pip install pipwin\n",
    "!pipwin install pyaudio"
   ]
  },
  {
   "cell_type": "code",
   "execution_count": 2,
   "metadata": {},
   "outputs": [
    {
     "name": "stdout",
     "output_type": "stream",
     "text": [
      "Requirement already satisfied: googletrans in c:\\users\\kiit\\anaconda3\\lib\\site-packages (2.4.0)\n",
      "Requirement already satisfied: requests in c:\\users\\kiit\\anaconda3\\lib\\site-packages (from googletrans) (2.22.0)\n",
      "Requirement already satisfied: chardet<3.1.0,>=3.0.2 in c:\\users\\kiit\\anaconda3\\lib\\site-packages (from requests->googletrans) (3.0.4)\n",
      "Requirement already satisfied: urllib3!=1.25.0,!=1.25.1,<1.26,>=1.21.1 in c:\\users\\kiit\\anaconda3\\lib\\site-packages (from requests->googletrans) (1.24.2)\n",
      "Requirement already satisfied: certifi>=2017.4.17 in c:\\users\\kiit\\anaconda3\\lib\\site-packages (from requests->googletrans) (2019.11.28)\n",
      "Requirement already satisfied: idna<2.9,>=2.5 in c:\\users\\kiit\\anaconda3\\lib\\site-packages (from requests->googletrans) (2.8)\n"
     ]
    },
    {
     "name": "stderr",
     "output_type": "stream",
     "text": [
      "WARNING: pip is being invoked by an old script wrapper. This will fail in a future version of pip.\n",
      "Please see https://github.com/pypa/pip/issues/5599 for advice on fixing the underlying issue.\n",
      "To avoid this problem you can invoke Python with '-m pip' instead of running pip directly.\n"
     ]
    }
   ],
   "source": [
    "!pip install googletrans"
   ]
  },
  {
   "cell_type": "code",
   "execution_count": 3,
   "metadata": {},
   "outputs": [],
   "source": [
    "import speech_recognition as sr\n",
    "recording = sr.Recognizer()"
   ]
  },
  {
   "cell_type": "code",
   "execution_count": 4,
   "metadata": {},
   "outputs": [
    {
     "name": "stdout",
     "output_type": "stream",
     "text": [
      "Please Say something:\n",
      "You said: \n",
      "kya naam hai aapka\n"
     ]
    }
   ],
   "source": [
    "with sr.Microphone() as source: \n",
    "    recording.adjust_for_ambient_noise(source)\n",
    "    print(\"Please Say something:\")\n",
    "    audio = recording.listen(source)\n",
    "try:\n",
    "    print(\"You said: \\n\" + recording.recognize_google(audio))\n",
    "except Exception as e:\n",
    "    print(e)"
   ]
  },
  {
   "cell_type": "code",
   "execution_count": 5,
   "metadata": {},
   "outputs": [],
   "source": [
    "from googletrans import Translator\n",
    "translator = Translator()"
   ]
  },
  {
   "cell_type": "code",
   "execution_count": 6,
   "metadata": {},
   "outputs": [],
   "source": [
    "translation = translator.translate(recording.recognize_google(audio))"
   ]
  },
  {
   "cell_type": "code",
   "execution_count": 7,
   "metadata": {},
   "outputs": [
    {
     "data": {
      "text/plain": [
       "'what is your name'"
      ]
     },
     "execution_count": 7,
     "metadata": {},
     "output_type": "execute_result"
    }
   ],
   "source": [
    "translation.text"
   ]
  },
  {
   "cell_type": "code",
   "execution_count": 12,
   "metadata": {},
   "outputs": [
    {
     "data": {
      "text/plain": [
       "'How to solve the problem in bank'"
      ]
     },
     "execution_count": 12,
     "metadata": {},
     "output_type": "execute_result"
    }
   ],
   "source": [
    "'How to solve the problem in bank'"
   ]
  }
 ],
 "metadata": {
  "kernelspec": {
   "display_name": "Python 3",
   "language": "python",
   "name": "python3"
  },
  "language_info": {
   "codemirror_mode": {
    "name": "ipython",
    "version": 3
   },
   "file_extension": ".py",
   "mimetype": "text/x-python",
   "name": "python",
   "nbconvert_exporter": "python",
   "pygments_lexer": "ipython3",
   "version": "3.7.3"
  }
 },
 "nbformat": 4,
 "nbformat_minor": 4
}
